{
 "cells": [
  {
   "cell_type": "markdown",
   "id": "312badf6-6a13-4e55-9736-8e62bb254938",
   "metadata": {},
   "source": [
    "## 1. Environment Setup for Jupyter Lab/Notebook"
   ]
  },
  {
   "cell_type": "raw",
   "id": "9ee3e5bd-dc42-4947-bf73-910b864f2fea",
   "metadata": {},
   "source": [
    "# Note: My OS is Windows. The below commands were ran in Anaconda CMD\n",
    "\n",
    "# Navigate to another drive\n",
    "cd /d D:\n",
    "    \n",
    "# Navigate to your project directory IS707\n",
    "cd D:/A_anaconda/IS707/\n",
    "\n",
    "# Create a new environment. Skip if you have the folder chatbot already (You created with below command or by getting it from Git repository)\n",
    "python -m venv chatbot\n",
    "\n",
    "# Activate environment \n",
    ".\\chatbot\\Scripts\\activate\n",
    "\n",
    "# Update and install dependencies\n",
    "python -m pip install --upgrade pip\n",
    "\n",
    "# Add it to Jupyter Kernel\n",
    "pip install ipykernel\n",
    "python -m ipykernel install --user --name chatbot\n",
    "\n",
    "# Open Jupyter Lab or Notebook (Best to do it this way for Python Packages)\n",
    "jupyter-lab\n",
    "#or\n",
    "jupyter-notebook\n",
    "\n",
    "#### In the future if environment is setup\n",
    "# Navigate to IS707\n",
    "# Activate the environment\n",
    "#Run jupyter-lab or jupyter-notebook"
   ]
  },
  {
   "cell_type": "code",
   "execution_count": 3,
   "id": "f7654a92-5e8a-40ef-819b-d625f76174e1",
   "metadata": {},
   "outputs": [
    {
     "name": "stdout",
     "output_type": "stream",
     "text": [
      "Package           Version\n",
      "----------------- -------\n",
      "asttokens         2.0.5\n",
      "backcall          0.2.0\n",
      "black             22.1.0\n",
      "click             8.0.3\n",
      "colorama          0.4.4\n",
      "debugpy           1.5.1\n",
      "decorator         5.1.1\n",
      "entrypoints       0.4\n",
      "executing         0.8.2\n",
      "ipykernel         6.9.1\n",
      "ipython           8.0.1\n",
      "jedi              0.18.1\n",
      "jupyter-client    7.1.2\n",
      "jupyter-core      4.9.2\n",
      "matplotlib-inline 0.1.3\n",
      "mypy-extensions   0.4.3\n",
      "nest-asyncio      1.5.4\n",
      "parso             0.8.3\n",
      "pathspec          0.9.0\n",
      "pickleshare       0.7.5\n",
      "pip               22.0.3\n",
      "platformdirs      2.5.0\n",
      "prompt-toolkit    3.0.28\n",
      "pure-eval         0.2.2\n",
      "Pygments          2.11.2\n",
      "python-dateutil   2.8.2\n",
      "pywin32           303\n",
      "pyzmq             22.3.0\n",
      "setuptools        49.2.1\n",
      "six               1.16.0\n",
      "stack-data        0.2.0\n",
      "tomli             2.0.1\n",
      "tornado           6.1\n",
      "traitlets         5.1.1\n",
      "typing_extensions 4.1.1\n",
      "wcwidth           0.2.5\n"
     ]
    }
   ],
   "source": [
    "# Check Work - This list should be small. \n",
    "# If you run pip list in Anaconda CMD without being in python virtual environment. Anaconda will have a lot of packages installed. This list should not match the Anaconda list. \n",
    "!pip list"
   ]
  },
  {
   "cell_type": "markdown",
   "id": "5d512632-a2cf-4096-abca-bc3f0298fdce",
   "metadata": {},
   "source": [
    "## 2. Install dependencies"
   ]
  },
  {
   "cell_type": "code",
   "execution_count": 9,
   "id": "d325faa6-571d-4414-81e4-a9e55ed40105",
   "metadata": {},
   "outputs": [],
   "source": [
    "!pip install wheel\n",
    "#!pip install chatterbot  # Not working. Python 3.4-3.8 required. My Windows Python is 3.8.8. Will install this on Linux VM\n",
    "#!pip install chatterbot_corpus # Not working. See Above\n",
    "!pip install regex"
   ]
  },
  {
   "cell_type": "markdown",
   "id": "bff721ce-48ef-436d-8844-b3c36c02e7e5",
   "metadata": {},
   "source": [
    "## 3. Create the Chatbot - Rule-Based Approach"
   ]
  },
  {
   "cell_type": "code",
   "execution_count": null,
   "id": "6d4e36bc-3ea1-47c2-8e73-882b2f86634d",
   "metadata": {},
   "outputs": [],
   "source": [
    "# Static \n",
    "print(\"BOT: What is your name?\")\n",
    "user_name = input()"
   ]
  },
  {
   "cell_type": "code",
   "execution_count": null,
   "id": "3c1ff0f3-7bdb-4303-838f-62949b96f1d6",
   "metadata": {},
   "outputs": [],
   "source": [
    "name = \"BOT\"\n",
    "responses = {\n",
    "    \"What's your name?\": [\n",
    "    \"They call me {0}\".format(name), \n",
    "    \"I usually go by {0}\"\".format(name),\n",
    "    \"My name is the {0}\".format(name)], \n",
    "    \"default\": [\n",
    "    \"this is a default message\"]}\n",
    "\n",
    "monsoon = \"rainy\"\n",
    "mood = \"Smiley\"\n",
    "resp = {\n",
    "    \"What's your name?\": [\n",
    "    \"They call me {0}\".format(name),\n",
    "    \"My name is the {0}\".format(name),\n",
    "    \"I usually go by {0}\".format(name)], \n",
    "    \"What's today's weather?\":\n",
    "    ]\n",
    "}"
   ]
  }
 ],
 "metadata": {
  "kernelspec": {
   "display_name": "chatbot",
   "language": "python",
   "name": "chatbot"
  },
  "language_info": {
   "codemirror_mode": {
    "name": "ipython",
    "version": 3
   },
   "file_extension": ".py",
   "mimetype": "text/x-python",
   "name": "python",
   "nbconvert_exporter": "python",
   "pygments_lexer": "ipython3",
   "version": "3.8.8"
  }
 },
 "nbformat": 4,
 "nbformat_minor": 5
}
